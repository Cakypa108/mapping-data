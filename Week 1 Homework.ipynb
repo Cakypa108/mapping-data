{
 "cells": [
  {
   "cell_type": "markdown",
   "id": "7e717c75",
   "metadata": {},
   "source": [
    "# Wine"
   ]
  },
  {
   "cell_type": "code",
   "execution_count": 21,
   "id": "9e781b5d",
   "metadata": {},
   "outputs": [
    {
     "name": "stdout",
     "output_type": "stream",
     "text": [
      "dict_keys(['name', 'grape', 'region', 'variety', 'rating', 'notes'])\n",
      "Number of items: 780\n"
     ]
    },
    {
     "data": {
      "text/html": [
       "<div>\n",
       "<style scoped>\n",
       "    .dataframe tbody tr th:only-of-type {\n",
       "        vertical-align: middle;\n",
       "    }\n",
       "\n",
       "    .dataframe tbody tr th {\n",
       "        vertical-align: top;\n",
       "    }\n",
       "\n",
       "    .dataframe thead th {\n",
       "        text-align: right;\n",
       "    }\n",
       "</style>\n",
       "<table border=\"1\" class=\"dataframe\">\n",
       "  <thead>\n",
       "    <tr style=\"text-align: right;\">\n",
       "      <th></th>\n",
       "      <th>name</th>\n",
       "      <th>grape</th>\n",
       "      <th>region</th>\n",
       "      <th>variety</th>\n",
       "      <th>rating</th>\n",
       "      <th>notes</th>\n",
       "    </tr>\n",
       "  </thead>\n",
       "  <tbody>\n",
       "    <tr>\n",
       "      <th>0</th>\n",
       "      <td>Laurenz V Charming Gruner Veltliner 2013</td>\n",
       "      <td>None</td>\n",
       "      <td>Kamptal, Austria</td>\n",
       "      <td>White Wine</td>\n",
       "      <td>90.0</td>\n",
       "      <td>Aromas of ripe apples and a typical Veltliner ...</td>\n",
       "    </tr>\n",
       "    <tr>\n",
       "      <th>1</th>\n",
       "      <td>Laurenz V Charming Gruner Veltliner 2014</td>\n",
       "      <td>None</td>\n",
       "      <td>Kamptal, Austria</td>\n",
       "      <td>White Wine</td>\n",
       "      <td>90.0</td>\n",
       "      <td>Aromas of ripe apples and a typical Veltliner ...</td>\n",
       "    </tr>\n",
       "    <tr>\n",
       "      <th>2</th>\n",
       "      <td>Laurenz V Singing Gruner Veltliner 2007</td>\n",
       "      <td>None</td>\n",
       "      <td>Austria</td>\n",
       "      <td>White Wine</td>\n",
       "      <td>90.0</td>\n",
       "      <td>A very attractive fruit bouquet yields apple, ...</td>\n",
       "    </tr>\n",
       "    <tr>\n",
       "      <th>3</th>\n",
       "      <td>Laurenz V Singing Gruner Veltliner 2010</td>\n",
       "      <td>None</td>\n",
       "      <td>Austria</td>\n",
       "      <td>White Wine</td>\n",
       "      <td>88.0</td>\n",
       "      <td>A very attractive fruit bouquet yields apple, ...</td>\n",
       "    </tr>\n",
       "    <tr>\n",
       "      <th>4</th>\n",
       "      <td>Laurenz V Singing Gruner Veltliner 2011</td>\n",
       "      <td>None</td>\n",
       "      <td>Austria</td>\n",
       "      <td>White Wine</td>\n",
       "      <td>88.0</td>\n",
       "      <td>A very attractive fruit bouquet yields apple, ...</td>\n",
       "    </tr>\n",
       "  </tbody>\n",
       "</table>\n",
       "</div>"
      ],
      "text/plain": [
       "                                       name grape            region  \\\n",
       "0  Laurenz V Charming Gruner Veltliner 2013  None  Kamptal, Austria   \n",
       "1  Laurenz V Charming Gruner Veltliner 2014  None  Kamptal, Austria   \n",
       "2   Laurenz V Singing Gruner Veltliner 2007  None           Austria   \n",
       "3   Laurenz V Singing Gruner Veltliner 2010  None           Austria   \n",
       "4   Laurenz V Singing Gruner Veltliner 2011  None           Austria   \n",
       "\n",
       "      variety  rating                                              notes  \n",
       "0  White Wine    90.0  Aromas of ripe apples and a typical Veltliner ...  \n",
       "1  White Wine    90.0  Aromas of ripe apples and a typical Veltliner ...  \n",
       "2  White Wine    90.0  A very attractive fruit bouquet yields apple, ...  \n",
       "3  White Wine    88.0  A very attractive fruit bouquet yields apple, ...  \n",
       "4  White Wine    88.0  A very attractive fruit bouquet yields apple, ...  "
      ]
     },
     "execution_count": 21,
     "metadata": {},
     "output_type": "execute_result"
    }
   ],
   "source": [
    "import json\n",
    "import os\n",
    "import pandas as pd\n",
    "\n",
    "with open('sample_data/wine-ratings.json') as f:\n",
    "    loaded_json = json.load(f)\n",
    "print(loaded_json.keys())\n",
    "print(f\"Number of items: {len(loaded_json['name'])}\")\n",
    "\n",
    "\n",
    "df = pd.DataFrame (loaded_json)\n",
    "\n",
    "df.head()"
   ]
  },
  {
   "cell_type": "markdown",
   "id": "1f9ef5f2",
   "metadata": {},
   "source": [
    "unique values of variety and information about rating"
   ]
  },
  {
   "cell_type": "code",
   "execution_count": 26,
   "id": "621caf34",
   "metadata": {},
   "outputs": [
    {
     "name": "stdout",
     "output_type": "stream",
     "text": [
      "['White Wine' 'Red Wine' 'Sparkling & Champagne' 'Pink and Rosé' None\n",
      " 'Collectible']\n"
     ]
    },
    {
     "data": {
      "text/html": [
       "<div>\n",
       "<style scoped>\n",
       "    .dataframe tbody tr th:only-of-type {\n",
       "        vertical-align: middle;\n",
       "    }\n",
       "\n",
       "    .dataframe tbody tr th {\n",
       "        vertical-align: top;\n",
       "    }\n",
       "\n",
       "    .dataframe thead th {\n",
       "        text-align: right;\n",
       "    }\n",
       "</style>\n",
       "<table border=\"1\" class=\"dataframe\">\n",
       "  <thead>\n",
       "    <tr style=\"text-align: right;\">\n",
       "      <th></th>\n",
       "      <th>rating</th>\n",
       "    </tr>\n",
       "  </thead>\n",
       "  <tbody>\n",
       "    <tr>\n",
       "      <th>count</th>\n",
       "      <td>780.000000</td>\n",
       "    </tr>\n",
       "    <tr>\n",
       "      <th>mean</th>\n",
       "      <td>91.415385</td>\n",
       "    </tr>\n",
       "    <tr>\n",
       "      <th>std</th>\n",
       "      <td>1.928576</td>\n",
       "    </tr>\n",
       "    <tr>\n",
       "      <th>min</th>\n",
       "      <td>85.000000</td>\n",
       "    </tr>\n",
       "    <tr>\n",
       "      <th>25%</th>\n",
       "      <td>90.000000</td>\n",
       "    </tr>\n",
       "    <tr>\n",
       "      <th>50%</th>\n",
       "      <td>91.000000</td>\n",
       "    </tr>\n",
       "    <tr>\n",
       "      <th>75%</th>\n",
       "      <td>93.000000</td>\n",
       "    </tr>\n",
       "    <tr>\n",
       "      <th>max</th>\n",
       "      <td>99.000000</td>\n",
       "    </tr>\n",
       "  </tbody>\n",
       "</table>\n",
       "</div>"
      ],
      "text/plain": [
       "           rating\n",
       "count  780.000000\n",
       "mean    91.415385\n",
       "std      1.928576\n",
       "min     85.000000\n",
       "25%     90.000000\n",
       "50%     91.000000\n",
       "75%     93.000000\n",
       "max     99.000000"
      ]
     },
     "execution_count": 26,
     "metadata": {},
     "output_type": "execute_result"
    }
   ],
   "source": [
    "print(df.variety.unique())\n",
    "df.describe()"
   ]
  },
  {
   "cell_type": "markdown",
   "id": "572e2d9c",
   "metadata": {},
   "source": [
    "creating masks"
   ]
  },
  {
   "cell_type": "code",
   "execution_count": 47,
   "id": "055f054f",
   "metadata": {},
   "outputs": [
    {
     "data": {
      "text/html": [
       "<div>\n",
       "<style scoped>\n",
       "    .dataframe tbody tr th:only-of-type {\n",
       "        vertical-align: middle;\n",
       "    }\n",
       "\n",
       "    .dataframe tbody tr th {\n",
       "        vertical-align: top;\n",
       "    }\n",
       "\n",
       "    .dataframe thead th {\n",
       "        text-align: right;\n",
       "    }\n",
       "</style>\n",
       "<table border=\"1\" class=\"dataframe\">\n",
       "  <thead>\n",
       "    <tr style=\"text-align: right;\">\n",
       "      <th></th>\n",
       "      <th>name</th>\n",
       "      <th>grape</th>\n",
       "      <th>region</th>\n",
       "      <th>variety</th>\n",
       "      <th>rating</th>\n",
       "      <th>notes</th>\n",
       "    </tr>\n",
       "  </thead>\n",
       "  <tbody>\n",
       "    <tr>\n",
       "      <th>431</th>\n",
       "      <td>Leese-Fitch Chardonnay 2015</td>\n",
       "      <td>None</td>\n",
       "      <td>California</td>\n",
       "      <td>White Wine</td>\n",
       "      <td>90.0</td>\n",
       "      <td>A rich golden hue in color, this medium-bodied...</td>\n",
       "    </tr>\n",
       "    <tr>\n",
       "      <th>432</th>\n",
       "      <td>Leese-Fitch Chardonnay 2016</td>\n",
       "      <td>None</td>\n",
       "      <td>California</td>\n",
       "      <td>White Wine</td>\n",
       "      <td>90.0</td>\n",
       "      <td>A rich golden hue in color, this medium-bodied...</td>\n",
       "    </tr>\n",
       "    <tr>\n",
       "      <th>433</th>\n",
       "      <td>Leese-Fitch Chardonnay 2017</td>\n",
       "      <td>None</td>\n",
       "      <td>California</td>\n",
       "      <td>White Wine</td>\n",
       "      <td>90.0</td>\n",
       "      <td>The 2017 Leese-Fitch Chardonnay hails from fru...</td>\n",
       "    </tr>\n",
       "    <tr>\n",
       "      <th>435</th>\n",
       "      <td>Leese-Fitch Sauvignon Blanc 2010</td>\n",
       "      <td>None</td>\n",
       "      <td>California</td>\n",
       "      <td>White Wine</td>\n",
       "      <td>90.0</td>\n",
       "      <td>The 2010 Leese-Fitch Sauvignon Blanc is a cris...</td>\n",
       "    </tr>\n",
       "  </tbody>\n",
       "</table>\n",
       "</div>"
      ],
      "text/plain": [
       "                                 name grape      region     variety  rating  \\\n",
       "431       Leese-Fitch Chardonnay 2015  None  California  White Wine    90.0   \n",
       "432       Leese-Fitch Chardonnay 2016  None  California  White Wine    90.0   \n",
       "433       Leese-Fitch Chardonnay 2017  None  California  White Wine    90.0   \n",
       "435  Leese-Fitch Sauvignon Blanc 2010  None  California  White Wine    90.0   \n",
       "\n",
       "                                                 notes  \n",
       "431  A rich golden hue in color, this medium-bodied...  \n",
       "432  A rich golden hue in color, this medium-bodied...  \n",
       "433  The 2017 Leese-Fitch Chardonnay hails from fru...  \n",
       "435  The 2010 Leese-Fitch Sauvignon Blanc is a cris...  "
      ]
     },
     "execution_count": 47,
     "metadata": {},
     "output_type": "execute_result"
    }
   ],
   "source": [
    "variety_mask = df.loc[:,'variety'] == 'White Wine'\n",
    "rating_mask = (df.loc[:,'rating'] >= 90) & (df.loc[:,'rating'] <= 92) \n",
    "region_mask = df.loc[:,'region'] == 'California'\n",
    "\n",
    "selected_wines = df[variety_mask & rating_mask & region_mask]\n",
    "\n",
    "selected_wines"
   ]
  },
  {
   "cell_type": "markdown",
   "id": "be2bf32d",
   "metadata": {},
   "source": [
    "## saving a json"
   ]
  },
  {
   "cell_type": "code",
   "execution_count": 50,
   "id": "4d1989b2",
   "metadata": {},
   "outputs": [],
   "source": [
    "with open('sample_data/good_white_wines_california.json', 'w') as f:\n",
    "    selected_wines.to_json(f)"
   ]
  },
  {
   "cell_type": "markdown",
   "id": "cc671e0b",
   "metadata": {},
   "source": [
    "### check the resulting file"
   ]
  },
  {
   "cell_type": "code",
   "execution_count": 52,
   "id": "7181f35b",
   "metadata": {},
   "outputs": [
    {
     "name": "stdout",
     "output_type": "stream",
     "text": [
      "dict_keys(['name', 'grape', 'region', 'variety', 'rating', 'notes'])\n",
      "Number of items: 4\n"
     ]
    },
    {
     "data": {
      "text/html": [
       "<div>\n",
       "<style scoped>\n",
       "    .dataframe tbody tr th:only-of-type {\n",
       "        vertical-align: middle;\n",
       "    }\n",
       "\n",
       "    .dataframe tbody tr th {\n",
       "        vertical-align: top;\n",
       "    }\n",
       "\n",
       "    .dataframe thead th {\n",
       "        text-align: right;\n",
       "    }\n",
       "</style>\n",
       "<table border=\"1\" class=\"dataframe\">\n",
       "  <thead>\n",
       "    <tr style=\"text-align: right;\">\n",
       "      <th></th>\n",
       "      <th>name</th>\n",
       "      <th>grape</th>\n",
       "      <th>region</th>\n",
       "      <th>variety</th>\n",
       "      <th>rating</th>\n",
       "      <th>notes</th>\n",
       "    </tr>\n",
       "  </thead>\n",
       "  <tbody>\n",
       "    <tr>\n",
       "      <th>431</th>\n",
       "      <td>Leese-Fitch Chardonnay 2015</td>\n",
       "      <td>None</td>\n",
       "      <td>California</td>\n",
       "      <td>White Wine</td>\n",
       "      <td>90.0</td>\n",
       "      <td>A rich golden hue in color, this medium-bodied...</td>\n",
       "    </tr>\n",
       "    <tr>\n",
       "      <th>432</th>\n",
       "      <td>Leese-Fitch Chardonnay 2016</td>\n",
       "      <td>None</td>\n",
       "      <td>California</td>\n",
       "      <td>White Wine</td>\n",
       "      <td>90.0</td>\n",
       "      <td>A rich golden hue in color, this medium-bodied...</td>\n",
       "    </tr>\n",
       "    <tr>\n",
       "      <th>433</th>\n",
       "      <td>Leese-Fitch Chardonnay 2017</td>\n",
       "      <td>None</td>\n",
       "      <td>California</td>\n",
       "      <td>White Wine</td>\n",
       "      <td>90.0</td>\n",
       "      <td>The 2017 Leese-Fitch Chardonnay hails from fru...</td>\n",
       "    </tr>\n",
       "    <tr>\n",
       "      <th>435</th>\n",
       "      <td>Leese-Fitch Sauvignon Blanc 2010</td>\n",
       "      <td>None</td>\n",
       "      <td>California</td>\n",
       "      <td>White Wine</td>\n",
       "      <td>90.0</td>\n",
       "      <td>The 2010 Leese-Fitch Sauvignon Blanc is a cris...</td>\n",
       "    </tr>\n",
       "  </tbody>\n",
       "</table>\n",
       "</div>"
      ],
      "text/plain": [
       "                                 name grape      region     variety  rating  \\\n",
       "431       Leese-Fitch Chardonnay 2015  None  California  White Wine    90.0   \n",
       "432       Leese-Fitch Chardonnay 2016  None  California  White Wine    90.0   \n",
       "433       Leese-Fitch Chardonnay 2017  None  California  White Wine    90.0   \n",
       "435  Leese-Fitch Sauvignon Blanc 2010  None  California  White Wine    90.0   \n",
       "\n",
       "                                                 notes  \n",
       "431  A rich golden hue in color, this medium-bodied...  \n",
       "432  A rich golden hue in color, this medium-bodied...  \n",
       "433  The 2017 Leese-Fitch Chardonnay hails from fru...  \n",
       "435  The 2010 Leese-Fitch Sauvignon Blanc is a cris...  "
      ]
     },
     "execution_count": 52,
     "metadata": {},
     "output_type": "execute_result"
    }
   ],
   "source": [
    "with open('sample_data/good_white_wines_california.json') as f:\n",
    "    loaded_cali_json = json.load(f)\n",
    "print(loaded_cali_json.keys())\n",
    "print(f\"Number of items: {len(loaded_cali_json['name'])}\")\n",
    "\n",
    "\n",
    "df_cali = pd.DataFrame (loaded_cali_json)\n",
    "\n",
    "df_cali.head()"
   ]
  }
 ],
 "metadata": {
  "kernelspec": {
   "display_name": "Python 3 (ipykernel)",
   "language": "python",
   "name": "python3"
  },
  "language_info": {
   "codemirror_mode": {
    "name": "ipython",
    "version": 3
   },
   "file_extension": ".py",
   "mimetype": "text/x-python",
   "name": "python",
   "nbconvert_exporter": "python",
   "pygments_lexer": "ipython3",
   "version": "3.10.7"
  }
 },
 "nbformat": 4,
 "nbformat_minor": 5
}
